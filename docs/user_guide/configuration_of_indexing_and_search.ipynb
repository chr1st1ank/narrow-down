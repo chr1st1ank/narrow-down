{
 "cells": [
  {
   "cell_type": "markdown",
   "id": "81d383e3",
   "metadata": {},
   "source": [
    "# Configuration of Indexing and Search\n",
    "\n",
    "\n",
    "\n",
    "\n",
    "## Preprocessing\n",
    "\n",
    "The input strings given to the insert and query functions are tokenized before they can be processed further. Depending on the type of documents to handle, different methods of tokenization can be more or less beneficial.\n",
    "\n",
    "Available options are:\n",
    "\n",
    "| Tokenize function | Description                                                |\n",
    "|-------------------|------------------------------------------------------------|\n",
    "| word_ngrams(n)    | Word n-grams of length n                                   |\n",
    "| char_ngrams(n)    | Character n-grams of length n                              |\n",
    "| char_ngrams(n, c) | Character n-grams of length n with a padding character \"c\" |\n",
    "| custom            | A custom function                                          |\n"
   ]
  },
  {
   "cell_type": "code",
   "execution_count": null,
   "id": "3f14d492",
   "metadata": {},
   "outputs": [],
   "source": []
  },
  {
   "cell_type": "markdown",
   "id": "f1cf9f8f",
   "metadata": {},
   "source": [
    "## Precision settings\n",
    "\n",
    "Narrow-Down is based on Minhash Locality Sensitive Hashing as described in \n",
    "[Leskovec, Rajaraman and Ullman: “Mining of Massive Datasets”, Chapter 3.](http://infolab.stanford.edu/~ullman/mmds/book0n.pdf).\n",
    "\n",
    "It is a heuristic method to search a body of sets to find the ones with a minimum Jaccard similarity to a given input set. Approximation happens on two levels:\n",
    "1. To estimate the similarity between a pair of sets by calculating a number of hash functions (the Minhash algorithm)\n",
    "2. To store the minhashes in a condensed way such that one can find items which share a number of common hashes (the LSH algorithm)\n",
    "\n",
    "The algorithms can be tuned with a number of parameters which are based on the following configuration options:\n",
    "\n",
    "\n",
    "| Parameter                | Default | Effect                                                                                                          |\n",
    "|--------------------------|---------|-----------------------------------------------------------------------------------------------------------------|\n",
    "| similarity_threshold     | 0.75    | The minimum Jaccard similarity every search result should have.                                                 |\n",
    "| max_false_negative_proba | 0.05    | Probability of false negatives, i.e. that a result is not found although the similarity is above the threshold. |\n",
    "| max_false_positive_proba | 0.05    | Probability of false positives, i.e. that a result is returned although the similarity is below the threshold.  |\n",
    "\n",
    "Narrow-down automatically tries to set the internal algorithm parameters (e.g. number of hash permutations, number of rows and bands of the LSH) in a way that the given target probabilities can be reached with minimum CPU and memory consumption.\n",
    "\n",
    "\n",
    "**Effect on precision, recall, memory, cpu, storage**\n"
   ]
  },
  {
   "cell_type": "code",
   "execution_count": null,
   "id": "5c1c473c",
   "metadata": {},
   "outputs": [],
   "source": []
  }
 ],
 "metadata": {
  "kernelspec": {
   "display_name": "Python 3 (ipykernel)",
   "language": "python",
   "name": "python3"
  },
  "language_info": {
   "codemirror_mode": {
    "name": "ipython",
    "version": 3
   },
   "file_extension": ".py",
   "mimetype": "text/x-python",
   "name": "python",
   "nbconvert_exporter": "python",
   "pygments_lexer": "ipython3",
   "version": "3.9.9"
  }
 },
 "nbformat": 4,
 "nbformat_minor": 5
}
