{
 "cells": [
  {
   "cell_type": "markdown",
   "id": "81d383e3",
   "metadata": {},
   "source": [
    "# Configuration of Indexing and Search\n",
    "\n",
    "## Tokenization\n",
    "\n",
    "The input strings given to the insert and query functions are tokenized before they can be processed further. Depending on the type of documents to handle, different methods of tokenization can be more or less beneficial.\n",
    "\n",
    "Available options are:\n",
    "\n",
    "| Tokenize function | Description                                                |\n",
    "|-------------------|------------------------------------------------------------|\n",
    "| word_ngrams(n)    | Word n-grams of length n                                   |\n",
    "| char_ngrams(n)    | Character n-grams of length n                              |\n",
    "| char_ngrams(n, c) | Character n-grams of length n with a padding character \"c\" |\n",
    "| custom            | A custom function                                          |\n",
    "\n",
    "Let's look at the example sentence and apply a couple of tokenize functions to demonstrate the differences:\n",
    "\n",
    "> Fuzzy Wuzzy was a bear. Fuzzy Wuzzy had no hair. Fuzzy Wuzzy wasn’t fuzzy, was he?\n",
    "\n",
    "### Word n-grams"
   ]
  },
  {
   "cell_type": "code",
   "execution_count": 51,
   "id": "3f14d492",
   "metadata": {},
   "outputs": [
    {
     "name": "stdout",
     "output_type": "stream",
     "text": [
      "word_ngrams(2):\n",
      "['hair. Fuzzy', 'wasn’t fuzzy,', 'had no', 'Fuzzy Wuzzy', 'Wuzzy had', 'Wuzzy was', '...']\n"
     ]
    }
   ],
   "source": [
    "from narrow_down._tokenize import char_ngrams, word_ngrams\n",
    "\n",
    "\n",
    "def show_first(collection):\n",
    "    print(list(collection)[:6] + [\"...\"])\n",
    "\n",
    "\n",
    "example = \"Fuzzy Wuzzy was a bear. Fuzzy Wuzzy had no hair. Fuzzy Wuzzy wasn’t fuzzy, was he?\"\n",
    "\n",
    "print(\"word_ngrams(2):\")\n",
    "show_first(word_ngrams(example, 2))"
   ]
  },
  {
   "cell_type": "code",
   "execution_count": 52,
   "id": "b63f7f1a",
   "metadata": {},
   "outputs": [
    {
     "name": "stdout",
     "output_type": "stream",
     "text": [
      "word_ngrams(4):\n",
      "['no hair. Fuzzy Wuzzy', 'a bear. Fuzzy Wuzzy', 'Fuzzy Wuzzy wasn’t fuzzy,', 'wasn’t fuzzy, was he?', 'bear. Fuzzy Wuzzy had', 'Wuzzy wasn’t fuzzy, was', '...']\n"
     ]
    }
   ],
   "source": [
    "print(\"word_ngrams(4):\")\n",
    "show_first(word_ngrams(example, 4))"
   ]
  },
  {
   "cell_type": "markdown",
   "id": "809ceb7d",
   "metadata": {},
   "source": [
    "### Character n-grams\n",
    "\n",
    "With padding character \"$\" (default):"
   ]
  },
  {
   "cell_type": "code",
   "execution_count": 53,
   "id": "247c281d",
   "metadata": {},
   "outputs": [
    {
     "name": "stdout",
     "output_type": "stream",
     "text": [
      "char_ngrams(3):\n",
      "['n’t', '$Fu', ' no', 'air', ' fu', '?$$', '...']\n"
     ]
    }
   ],
   "source": [
    "print(\"char_ngrams(3):\")\n",
    "show_first(char_ngrams(example, 3))"
   ]
  },
  {
   "cell_type": "code",
   "execution_count": 54,
   "id": "05873e7d",
   "metadata": {},
   "outputs": [
    {
     "name": "stdout",
     "output_type": "stream",
     "text": [
      "char_ngrams(5):\n",
      "['uzzy ', 'n’t f', 'zzy w', '. Fuz', '$$$$F', 'y had', '...']\n"
     ]
    }
   ],
   "source": [
    "print(\"char_ngrams(5):\")\n",
    "show_first(char_ngrams(example, 5))"
   ]
  },
  {
   "cell_type": "markdown",
   "id": "8a1ee049",
   "metadata": {},
   "source": [
    "Without a padding character:"
   ]
  },
  {
   "cell_type": "code",
   "execution_count": 55,
   "id": "4880c28c",
   "metadata": {},
   "outputs": [
    {
     "name": "stdout",
     "output_type": "stream",
     "text": [
      "char_ngrams(3, ''):\n",
      "['n’t', ' no', 'air', ' fu', 'asn', '’t ', '...']\n"
     ]
    }
   ],
   "source": [
    "print(\"char_ngrams(3, ''):\")\n",
    "show_first(char_ngrams(example, 3, \"\"))"
   ]
  },
  {
   "cell_type": "code",
   "execution_count": 56,
   "id": "c1f8f095",
   "metadata": {},
   "outputs": [
    {
     "name": "stdout",
     "output_type": "stream",
     "text": [
      "char_ngrams(5, ''):\n",
      "['uzzy ', 'n’t f', 'zzy w', '. Fuz', 'y had', 's he?', '...']\n"
     ]
    }
   ],
   "source": [
    "print(\"char_ngrams(5, ''):\")\n",
    "show_first(char_ngrams(example, 5, \"\"))"
   ]
  },
  {
   "cell_type": "markdown",
   "id": "8e2e0b39",
   "metadata": {},
   "source": [
    "### Choosing the right tokenization function\n",
    "\n",
    "In general on a large dataset n-grams with higher value of n produce a higher cardinality. Documents in their set representation are more likely to be unique and harder to be matched with similar documents. On the other hand, low values of n may produce a lot false positives in the sense that documents are matched which have actually not match in common. In the extreme case of character 1-grams, almost all documents may have some frequent characters like \"e\" or \"n\" in common, also they are semantically different.\n",
    "\n",
    "Some default choices of tokenization functions are:\n",
    "- word_ngram(5) for longer text documents like webpages or newspaper articles\n",
    "- word_ngram(3) for shorter text documents\n",
    "- char_ngram(3) for short text documents which don't contain full sentences like addresses or names\n",
    "\n",
    "The following final example shows how to configure SimilarityStore with a tokenizer:"
   ]
  },
  {
   "cell_type": "code",
   "execution_count": 58,
   "id": "a2186bed",
   "metadata": {},
   "outputs": [],
   "source": [
    "from narrow_down.similarity_store import SimilarityStore\n",
    "\n",
    "similarity_store = await SimilarityStore.create(\n",
    "    tokenize=\"char_ngrams(3)\",\n",
    ")"
   ]
  },
  {
   "cell_type": "markdown",
   "id": "61fd1a23",
   "metadata": {},
   "source": [
    "### Custom tokenizer function\n",
    "\n",
    "It is also possible to pass a custom function as tokenizer:"
   ]
  },
  {
   "cell_type": "code",
   "execution_count": 62,
   "id": "f21b5611",
   "metadata": {},
   "outputs": [],
   "source": [
    "def tokenizer(raw_string):\n",
    "    \"\"\"Splits a string at every comma.\"\"\"\n",
    "    return set(raw_string.split(\",\"))\n",
    "\n",
    "\n",
    "similarity_store = await SimilarityStore.create(\n",
    "    tokenize=tokenizer,\n",
    ")"
   ]
  },
  {
   "cell_type": "markdown",
   "id": "f1cf9f8f",
   "metadata": {},
   "source": [
    "## Precision settings\n",
    "\n",
    "Narrow-Down is based on Minhash Locality Sensitive Hashing as described in \n",
    "[Leskovec, Rajaraman and Ullman: “Mining of Massive Datasets”, Chapter 3.](http://infolab.stanford.edu/~ullman/mmds/book0n.pdf).\n",
    "\n",
    "It is a heuristic method to search a body of sets to find the ones with a minimum Jaccard similarity to a given input set. Approximation happens on two levels:\n",
    "1. To estimate the similarity between a pair of sets by calculating a number of hash functions (the Minhash algorithm)\n",
    "2. To store the minhashes in a condensed way such that one can find items which share a number of common hashes (the LSH algorithm)\n",
    "\n",
    "The algorithms can be tuned with a number of parameters which are based on the following configuration options:\n",
    "\n",
    "\n",
    "| Parameter                | Default | Effect                                                                                                          |\n",
    "|--------------------------|---------|-----------------------------------------------------------------------------------------------------------------|\n",
    "| similarity_threshold     | 0.75    | The minimum Jaccard similarity every search result should have.                                                 |\n",
    "| max_false_negative_proba | 0.05    | Probability of false negatives, i.e. that a result is not found although the similarity is above the threshold. |\n",
    "| max_false_positive_proba | 0.05    | Probability of false positives, i.e. that a result is returned although the similarity is below the threshold.  |\n",
    "\n",
    "Narrow-down automatically tries to set the internal algorithm parameters (e.g. number of hash permutations, number of rows and bands of the LSH) in a way that the given target probabilities can be reached with minimum CPU and memory consumption."
   ]
  }
 ],
 "metadata": {
  "kernelspec": {
   "display_name": "Python 3 (ipykernel)",
   "language": "python",
   "name": "python3"
  },
  "language_info": {
   "codemirror_mode": {
    "name": "ipython",
    "version": 3
   },
   "file_extension": ".py",
   "mimetype": "text/x-python",
   "name": "python",
   "nbconvert_exporter": "python",
   "pygments_lexer": "ipython3",
   "version": "3.9.9"
  }
 },
 "nbformat": 4,
 "nbformat_minor": 5
}
