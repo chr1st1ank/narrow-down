{
 "cells": [
  {
   "cell_type": "markdown",
   "id": "e0e8ae90",
   "metadata": {},
   "source": [
    "# Storage Backends\n",
    "\n",
    "Narrow-down is based on a flexible storage abstraction. The common interface is the abstract class [StorageBackend](narrow_down.storage.StorageBackend). Per default, a new [SimilarityStore](narrow_down.similarity_store.SimilarityStore) object starts with an empty index and uses in-memory storage. The lifetime of the index is bound to the lifetime of the SimilarityStore object in this case. This can be changed by explicitly specifying a storage backend.\n",
    "\n",
    "\n",
    "The following backends are built in:\n",
    "\n",
    "- [InMemoryStore](#inmemorystore)\n",
    "- [ScyllaDBStore](#scylladb-or-cassandra) (for ScyllaDB or Cassandra)\n",
    "- [SQLiteStore](#sqlite)\n",
    "\n",
    "\n",
    "## Using storage backends\n",
    "\n",
    "\n",
    "### Initializing a storage backend\n",
    "\n",
    "A storage backend can be explicitly defined and handed over to the SimilarityStore. Not that a new backend needs to be initialized, e.g. to create the necessary database tables:"
   ]
  },
  {
   "cell_type": "code",
   "execution_count": 24,
   "id": "708f6560",
   "metadata": {},
   "outputs": [],
   "source": [
    "from narrow_down.similarity_store import SimilarityStore\n",
    "from narrow_down.storage import InMemoryStore\n",
    "\n",
    "storage_backend = await InMemoryStore().initialize()\n",
    "\n",
    "similarity_store = await SimilarityStore.create(storage=storage_backend)"
   ]
  },
  {
   "cell_type": "markdown",
   "id": "80cd8ca7",
   "metadata": {},
   "source": [
    "### Loading SimilarityStore from storage"
   ]
  },
  {
   "cell_type": "markdown",
   "id": "1e1c4dec",
   "metadata": {},
   "source": [
    "All the settings of a `SimilarityStore` object are also persisted in the storage backend. Therefore one can re-create a `SimilarityStore` from the storage:"
   ]
  },
  {
   "cell_type": "code",
   "execution_count": 25,
   "id": "d6ae5a1c",
   "metadata": {},
   "outputs": [],
   "source": [
    "similarity_store = await SimilarityStore.load_from_storage(storage=storage_backend)"
   ]
  },
  {
   "cell_type": "markdown",
   "id": "9275709e",
   "metadata": {},
   "source": [
    "### StoredDocument\n",
    "The documents are represented in storage as [StoredDocument](narrow_down.data_types.StoredDocument)\n",
    "objects. This is a simple dataclasses with the following attributes:\n",
    "    \n",
    "\n",
    "|      |                                                      |             \n",
    "|:-----------|:--------------------------------------------------|              \n",
    "| id_          | Unique identifier                                     |              \n",
    "| document     | The actual text to use for fuzzy matching             |                     \n",
    "| exact_part   | An optional string which should be matched exactly    |                     \n",
    "| data         | Payload to persist together with the document         |                     \n",
    "| fingerprint  | A fuzzy fingerprint of the document, e.g. a Minhash   |                                                  \n",
    "\n",
    "The id can be either generated or specified by the user. The attributes `document`, `exact_part` and `data` are user specified input. Only the first two are used for searching, the `data` is some optional payload that can be stored together with the rest.\n",
    "`fingerprint` finally, is mostly of internal value. This is calculated from the input data on indexing.\n",
    "\n",
    "A `StoredDocument` is also the kind of object which is returned as search result."
   ]
  },
  {
   "cell_type": "markdown",
   "id": "2063b17d",
   "metadata": {},
   "source": [
    "### Storage levels\n",
    "Depending on the usecase, different levels of persistence may be preferable. Sometimes it is enough to only store just enough to be able to get the IDs of matching documents. In other cases, it can be better to store the whole documents or some additional data in the index. This way it is not necessary to have a second database for this data.\n",
    "\n",
    "The available storage levels as defined in the enum [StorageLevel](narrow_down.data_types.StorageLevel) are:\n",
    "\n",
    "| Storage level | Effect                                                                                                                      |\n",
    "|:--------------|:----------------------------------------------------------------------------------------------------------------------------|\n",
    "|    Minimal    | Minimal storage level.<br>Only store the necessary data to perform the search, namely only the \"id\" and (if given) the \"data\". |\n",
    "|  Fingerprint  | Store in addition to \"Minimal\" also the \"fingerprint\" attribute.                                                            |\n",
    "|    Document   | Store in addition to \"Minimal\" also the \"document\" and the \"exact_part\" attributes.                                         |\n",
    "|      Full     | Stores all attributes of the \"StoredDocument\".                                                                              |\n",
    "\n",
    "The code blocks below shows how to set and use the storage levels with a SimilarityStore.\n",
    "\n",
    "With \"Minimal\", the default value, we only get the id and data out as query result:"
   ]
  },
  {
   "cell_type": "code",
   "execution_count": 26,
   "id": "1809bcdc",
   "metadata": {},
   "outputs": [
    {
     "data": {
      "text/plain": [
       "StoredDocument(id_=1, document=None, exact_part=None, fingerprint=None, data='additional data')"
      ]
     },
     "execution_count": 26,
     "metadata": {},
     "output_type": "execute_result"
    }
   ],
   "source": [
    "storage_backend = await InMemoryStore().initialize()\n",
    "\n",
    "similarity_store = await SimilarityStore.create(storage=storage_backend)\n",
    "\n",
    "await similarity_store.insert(\n",
    "    document=\"the document text\", exact_part=\"the exact part\", data=\"additional data\"\n",
    ")\n",
    "result = await similarity_store.query(document=\"the document text\", exact_part=\"the exact part\")\n",
    "result[0]"
   ]
  },
  {
   "cell_type": "markdown",
   "id": "6fa35c48",
   "metadata": {},
   "source": [
    "If we use the storage level \"Document\" instead, also the document and exact_part attributes are stored and retrieved:"
   ]
  },
  {
   "cell_type": "code",
   "execution_count": 27,
   "id": "7c9c09f3",
   "metadata": {},
   "outputs": [
    {
     "data": {
      "text/plain": [
       "StoredDocument(id_=1, document='the document text', exact_part='the exact part', fingerprint=None, data='additional data')"
      ]
     },
     "execution_count": 27,
     "metadata": {},
     "output_type": "execute_result"
    }
   ],
   "source": [
    "from narrow_down.data_types import StorageLevel\n",
    "\n",
    "storage_backend = await InMemoryStore().initialize()\n",
    "\n",
    "similarity_store = await SimilarityStore.create(\n",
    "    storage=storage_backend, storage_level=StorageLevel.Document\n",
    ")\n",
    "\n",
    "await similarity_store.insert(\n",
    "    document=\"the document text\", exact_part=\"the exact part\", data=\"additional data\"\n",
    ")\n",
    "result = await similarity_store.query(document=\"the document text\", exact_part=\"the exact part\")\n",
    "result[0]"
   ]
  },
  {
   "cell_type": "markdown",
   "id": "591e8f7f",
   "metadata": {},
   "source": [
    "*Note: The storage level needs to be defined when creating a `SimilarityStore` and cannot be changed later*"
   ]
  },
  {
   "cell_type": "markdown",
   "id": "9a24ff5a",
   "metadata": {},
   "source": [
    "## InMemoryStore\n",
    "\n",
    "The simplest backend and also the fastest both for indexing and querying is \n",
    "[InMemoryStore](narrow_down.storage.InMemoryStore). It also offers a way to persist the data, because it can be serialized into a file in efficient binary MessagePack format.\n",
    "\n",
    "Advantages:\n",
    "- Fastest backend\n",
    "- Easy setup\n",
    "\n",
    "Disadvantages:\n",
    "- Data size is limited by the physical memory\n",
    "- Only one process can access the data for writing at the same time"
   ]
  },
  {
   "cell_type": "code",
   "execution_count": 28,
   "id": "b2cea474",
   "metadata": {},
   "outputs": [],
   "source": [
    "# Initialize and use:\n",
    "storage_backend = await InMemoryStore().initialize()\n",
    "similarity_store = await SimilarityStore.create(storage=storage_backend)\n",
    "\n",
    "# Store to a file:\n",
    "storage_backend.to_file(\"/tmp/storage-backend.msgpack\")\n",
    "\n",
    "# Load again:\n",
    "storage_backend = InMemoryStore.from_file(\"/tmp/storage-backend.msgpack\")\n",
    "similarity_store = await SimilarityStore.load_from_storage(storage=storage_backend)"
   ]
  },
  {
   "cell_type": "code",
   "execution_count": 29,
   "id": "a090715c",
   "metadata": {
    "tags": [
     "remove_cell"
    ]
   },
   "outputs": [],
   "source": [
    "!rm -f /tmp/storage-backend.msgpack"
   ]
  },
  {
   "cell_type": "markdown",
   "id": "2c92e851",
   "metadata": {},
   "source": [
    "## ScyllaDB or Cassandra\n",
    "\n",
    "With access to [Apache Cassandra](https://cassandra.apache.org) or [ScyllaDB](https://www.scylladb.com/) (a reimplementation of Cassandra in C++), it is possible to use Narrow-down in a distributed system and beyond the boundaries of a single system's memory.\n",
    "\n",
    "See the API documentation of [ScyllaDBStore](narrow_down.scylladb.ScyllaDBStore) for more details.\n"
   ]
  },
  {
   "cell_type": "code",
   "execution_count": 30,
   "id": "c4648d39",
   "metadata": {},
   "outputs": [],
   "source": [
    "import cassandra\n",
    "\n",
    "from narrow_down.scylladb import ScyllaDBStore\n",
    "\n",
    "cassandra_cluster = cassandra.cluster.Cluster(contact_points=[\"localhost\"], port=9042)\n",
    "session = cassandra_cluster.connect()\n",
    "session.execute(\n",
    "    \"CREATE KEYSPACE IF NOT EXISTS test_ks \"\n",
    "    \"WITH replication = {'class': 'SimpleStrategy', 'replication_factor' : 1} \"\n",
    "    \"AND durable_writes = False\"\n",
    ")\n",
    "\n",
    "cassandra_storage = ScyllaDBStore(session, keyspace=\"test_ks\")\n",
    "\n",
    "similarity_store = await SimilarityStore.create(storage=cassandra_storage)"
   ]
  },
  {
   "cell_type": "markdown",
   "id": "95205c0c",
   "metadata": {},
   "source": [
    "So the actual connection is created and managed outside of narrow_down and is passed to it.\n",
    "After first initialization of the database one should not use the `create()` method anymore, but rather the `load_from_storage()` method:"
   ]
  },
  {
   "cell_type": "code",
   "execution_count": 31,
   "id": "2f85ba8a",
   "metadata": {},
   "outputs": [],
   "source": [
    "similarity_store = await SimilarityStore.load_from_storage(storage=cassandra_storage)"
   ]
  },
  {
   "cell_type": "markdown",
   "id": "70d58e38",
   "metadata": {},
   "source": [
    "## SQLite\n",
    "\n",
    "Narrow-Down also supports using a local [SQLite](https://www.sqlite.org) database as storage backend. This offers a simple setup for an amount of data which exceeds memory limit. It is fairly fast on Linux, leveraging the file system's write cache. On Windows indexing is very slow, because every commit operation is directly flushed to disk.\n",
    "\n",
    "Configuration options are documentend in the API documentation of [SQLiteStore](narrow_down.sqlite.SQLiteStore).\n",
    "\n",
    "Usage example:"
   ]
  },
  {
   "cell_type": "code",
   "execution_count": 32,
   "id": "1d606367",
   "metadata": {
    "tags": [
     "remove_cell"
    ]
   },
   "outputs": [],
   "source": [
    "!rm -f /tmp/storage-backend.sqlite"
   ]
  },
  {
   "cell_type": "code",
   "execution_count": 33,
   "id": "637d11ab",
   "metadata": {},
   "outputs": [
    {
     "data": {
      "text/plain": [
       "StoredDocument(id_=1, document=None, exact_part=None, fingerprint=None, data='additional data')"
      ]
     },
     "execution_count": 33,
     "metadata": {},
     "output_type": "execute_result"
    }
   ],
   "source": [
    "from narrow_down.sqlite import SQLiteStore\n",
    "\n",
    "# Initialize and use:\n",
    "storage_backend = SQLiteStore(\"/tmp/storage-backend.sqlite\")\n",
    "similarity_store = await SimilarityStore.create(storage=storage_backend)\n",
    "await similarity_store.insert(\n",
    "    document=\"the document text\", exact_part=\"the exact part\", data=\"additional data\"\n",
    ")\n",
    "\n",
    "# Reopen and continue later:\n",
    "storage_backend = SQLiteStore(\"/tmp/storage-backend.sqlite\")\n",
    "similarity_store = await SimilarityStore.load_from_storage(storage=storage_backend)\n",
    "\n",
    "result = await similarity_store.query(document=\"the document text\", exact_part=\"the exact part\")\n",
    "result[0]"
   ]
  },
  {
   "cell_type": "code",
   "execution_count": 34,
   "id": "2e2b0619",
   "metadata": {
    "tags": [
     "remove_cell"
    ]
   },
   "outputs": [],
   "source": [
    "!rm -f /tmp/storage-backend.sqlite"
   ]
  }
 ],
 "metadata": {
  "celltoolbar": "Edit Metadata",
  "kernelspec": {
   "display_name": "Python 3 (ipykernel)",
   "language": "python",
   "name": "python3"
  },
  "language_info": {
   "codemirror_mode": {
    "name": "ipython",
    "version": 3
   },
   "file_extension": ".py",
   "mimetype": "text/x-python",
   "name": "python",
   "nbconvert_exporter": "python",
   "pygments_lexer": "ipython3",
   "version": "3.9.9"
  }
 },
 "nbformat": 4,
 "nbformat_minor": 5
}
