{
 "cells": [
  {
   "cell_type": "markdown",
   "id": "e0e8ae90",
   "metadata": {},
   "source": [
    "# Basic Usage\n",
    "\n",
    "The class [SimilarityStore](narrow_down.similarity_store.SimilarityStore) allows to incrementally index and search documents. Both is demonstrated in the sections below.\n",
    "\n",
    "The API is fully asynchronous. That means all relevant methods can directly called with `await` from coroutine functions. But it can also be called from synchronous code with [asyncio.run()](asyncio.run). This creates a little overhead to establish an event loop. So it is better to call `run()` not to often but rather on a higher level in the call chain. \n",
    "\n",
    "## Indexing\n",
    "The code block below shows how to create and configure a SimilarityStore() object. \n",
    "\n",
    "Here we choose the [StorageLevel](narrow_down.data_types.StorageLevel) `Document`, so that the whole document is stored in the `SimilarityStore` and can be returned from it. A target similarity threshold of 75% is defined, which means that we want to search for documents which have a Jaccard similarity of at least 75% with the input document. To calculate the similarity, the document is first preprocessed by a tokenizer function. Here we choose the character 3-grams of a document for this."
   ]
  },
  {
   "cell_type": "code",
   "execution_count": 1,
   "id": "637d11ab",
   "metadata": {},
   "outputs": [],
   "source": [
    "import asyncio\n",
    "\n",
    "import narrow_down as nd\n",
    "from narrow_down.data_types import StoredDocument\n",
    "\n",
    "similarity_store = await nd.similarity_store.SimilarityStore.create(\n",
    "    storage_level=nd.data_types.StorageLevel.Document,\n",
    "    similarity_threshold=0.75,\n",
    "    tokenize=\"char_ngrams(3)\",\n",
    ")"
   ]
  },
  {
   "cell_type": "markdown",
   "id": "a872afa4",
   "metadata": {},
   "source": [
    "Now the object can be filled with documents. As example reviews of a popular oatmeal cookie are used:"
   ]
  },
  {
   "cell_type": "code",
   "execution_count": 2,
   "id": "62713b60",
   "metadata": {},
   "outputs": [],
   "source": [
    "strings_to_index = [\n",
    "    \"Delicious!\",\n",
    "    \"Great Anytime of Day!\",\n",
    "    \"Very good!\",\n",
    "    \"Quick, simple HEALTHY snack for the kiddos!!!\",\n",
    "    \"Quaker Soft Baked Oatmeal Cookies\",\n",
    "    \"Yummy\",\n",
    "    \"Wow!!!!!\",\n",
    "    \"soft, chewy, yummy!\",\n",
    "    \"so soft and good\",\n",
    "    \"Chewy deliciousness\",\n",
    "    \"the bomb\",\n",
    "    \"Deliciousness\",\n",
    "    \"Yummy\",\n",
    "    \"awesome cookies\",\n",
    "    \"Home-baked taste without the fuss\",\n",
    "    \"Yummy Whole Grain Goodness!!!\",\n",
    "    \"Yummy\",\n",
    "    \"Amazing Cookies!\",\n",
    "    \"Good, but not homemade.\",\n",
    "    \"Very Good Oatmeal Cookie\",\n",
    "    \"Very good cookie\",\n",
    "    \"Love these cookies especially for the kids\",\n",
    "    \"My kids loved them.\",\n",
    "    \"Lunchbox or Work Staple\",\n",
    "    \"So Delious as no other\",\n",
    "    \"Over-Packaged Product\",\n",
    "    \"yum\",\n",
    "    \"Great taste\",\n",
    "    \"Yummy!!\",\n",
    "    \"Well, the foil packet is handy...\",\n",
    "    \"TOTALLY DIFFERENT!\",\n",
    "]\n",
    "\n",
    "\n",
    "for i, doc in enumerate(strings_to_index):\n",
    "    await similarity_store.insert(doc.lower(), document_id=i)"
   ]
  },
  {
   "cell_type": "markdown",
   "id": "4c8f3a65",
   "metadata": {},
   "source": [
    "## Querying\n",
    "\n",
    "Now that some data is indexed, the SimilarityStore is ready to execute searches:"
   ]
  },
  {
   "cell_type": "code",
   "execution_count": 3,
   "id": "c3eca9d6",
   "metadata": {},
   "outputs": [
    {
     "data": {
      "text/plain": [
       "True"
      ]
     },
     "execution_count": 3,
     "metadata": {},
     "output_type": "execute_result"
    }
   ],
   "source": [
    "search_result = await similarity_store.query(\"Awesome cookies\".lower())\n",
    "search_result == [StoredDocument(id_=13, document=\"awesome cookies\")]"
   ]
  },
  {
   "cell_type": "code",
   "execution_count": 4,
   "id": "146850e2",
   "metadata": {},
   "outputs": [
    {
     "data": {
      "text/plain": [
       "True"
      ]
     },
     "execution_count": 4,
     "metadata": {},
     "output_type": "execute_result"
    }
   ],
   "source": [
    "search_result = await similarity_store.query(\"So Delicious as no other\".lower())\n",
    "search_result == [StoredDocument(id_=24, document=\"so delious as no other\")]"
   ]
  },
  {
   "cell_type": "code",
   "execution_count": 5,
   "id": "89976533",
   "metadata": {},
   "outputs": [
    {
     "data": {
      "text/plain": [
       "True"
      ]
     },
     "execution_count": 5,
     "metadata": {},
     "output_type": "execute_result"
    }
   ],
   "source": [
    "search_result = await similarity_store.query(\"Very, very good cookie\".lower())\n",
    "search_result == [StoredDocument(id_=20, document=\"very good cookie\")]"
   ]
  },
  {
   "cell_type": "code",
   "execution_count": 6,
   "id": "35dc5cf1",
   "metadata": {},
   "outputs": [
    {
     "data": {
      "text/plain": [
       "True"
      ]
     },
     "execution_count": 6,
     "metadata": {},
     "output_type": "execute_result"
    }
   ],
   "source": [
    "search_result = await similarity_store.query(\"Loving every bit of it!\".lower())\n",
    "search_result == []"
   ]
  },
  {
   "cell_type": "markdown",
   "id": "8a149dea",
   "metadata": {},
   "source": [
    "## Adding more documents\n",
    "\n",
    "There is no split between a training and a prediction phase. More documents can be added at any time:"
   ]
  },
  {
   "cell_type": "code",
   "execution_count": 7,
   "id": "7d911c31",
   "metadata": {},
   "outputs": [
    {
     "data": {
      "text/plain": [
       "42"
      ]
     },
     "execution_count": 7,
     "metadata": {},
     "output_type": "execute_result"
    }
   ],
   "source": [
    "await similarity_store.insert(\"Good cookie\", document_id=42)"
   ]
  }
 ],
 "metadata": {
  "kernelspec": {
   "display_name": "Python 3 (ipykernel)",
   "language": "python",
   "name": "python3"
  },
  "language_info": {
   "codemirror_mode": {
    "name": "ipython",
    "version": 3
   },
   "file_extension": ".py",
   "mimetype": "text/x-python",
   "name": "python",
   "nbconvert_exporter": "python",
   "pygments_lexer": "ipython3",
   "version": "3.9.9"
  }
 },
 "nbformat": 4,
 "nbformat_minor": 5
}
